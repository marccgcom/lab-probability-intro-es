{
 "cells": [
  {
   "cell_type": "markdown",
   "metadata": {},
   "source": [
    "# Probability"
   ]
  },
  {
   "cell_type": "markdown",
   "metadata": {},
   "source": [
    "## Reto 1\n",
    "Hay una caja con 10 bolas blancas, 12 bolas rojas y 8 bolas negras. Calcula la probabilidad de:\n",
    "* Sacar una bola blanca.\n",
    "* Sacar una bola blanca en la primera extracción y una bola negra en la segunda extracción sin reemplazar la primera.\n",
    "* Sacar una bola blanca en la primera extracción y una bola negra en la segunda extracción reemplazando la primera.\n",
    "* Sacar 3 bolas y que sean todas de diferentes colores."
   ]
  },
  {
   "cell_type": "code",
   "execution_count": 1,
   "metadata": {},
   "outputs": [
    {
     "name": "stdout",
     "output_type": "stream",
     "text": [
      "Probabilidad de sacar una bola blanca: 0.3333\n",
      "Probabilidad de sacar una bola blanca y luego una negra sin reemplazo: 0.0920\n",
      "Probabilidad de sacar una bola blanca y luego una negra con reemplazo: 0.0889\n",
      "Probabilidad de sacar 3 bolas de diferentes colores: 0.0394\n"
     ]
    }
   ],
   "source": [
    "bolas_blancas = 10\n",
    "bolas_rojas = 12\n",
    "bolas_negras = 8\n",
    "total_bolas = bolas_blancas + bolas_rojas + bolas_negras\n",
    "\n",
    " # Probabilidad de sacar una bola blanca\n",
    "p_blanca = bolas_blancas / total_bolas\n",
    "\n",
    "# Probabilidad de sacar una bola blanca y luego una negra sin reemplazo\n",
    "p_blanca_negra_sin_reemplazo = (bolas_blancas / total_bolas) * (bolas_negras / (total_bolas - 1))\n",
    "\n",
    "# Probabilidad de sacar una bola blanca y luego una negra con reemplazo\n",
    "p_blanca_negra_con_reemplazo = (bolas_blancas / total_bolas) * (bolas_negras / total_bolas)\n",
    "\n",
    "# Probabilidad de sacar 3 bolas de diferentes colores sin reemplazo\n",
    "p_blanca_roja_negra = (bolas_blancas / total_bolas) * (bolas_rojas / (total_bolas - 1)) * (bolas_negras / (total_bolas - 2))\n",
    "\n",
    "# Resultados\n",
    "print(f\"Probabilidad de sacar una bola blanca: {p_blanca:.4f}\")\n",
    "print(f\"Probabilidad de sacar una bola blanca y luego una negra sin reemplazo: {p_blanca_negra_sin_reemplazo:.4f}\")\n",
    "print(f\"Probabilidad de sacar una bola blanca y luego una negra con reemplazo: {p_blanca_negra_con_reemplazo:.4f}\")\n",
    "print(f\"Probabilidad de sacar 3 bolas de diferentes colores: {p_blanca_roja_negra:.4f}\")\n"
   ]
  },
  {
   "cell_type": "markdown",
   "metadata": {},
   "source": [
    "## Reto 2\n",
    "\n",
    "Quieres ir de picnic el sábado. Odias la lluvia y quieres planificar tu fin de semana. Para ayudarte a tomar una decisión, recopilas los siguientes datos sobre los días lluviosos:\n",
    "\n",
    "* El 40% de todos los días están nublados.\n",
    "* Aproximadamente el 50% de los días nublados son lluviosos.\n",
    "* Aproximadamente el 20% de los días no nublados son lluviosos.\n",
    "\n",
    "¿Cuál es la probabilidad de que llueva el próximo sábado?"
   ]
  },
  {
   "cell_type": "code",
   "execution_count": 2,
   "metadata": {},
   "outputs": [
    {
     "name": "stdout",
     "output_type": "stream",
     "text": [
      "La probabilidad de que llueva el próximo sábado es: 0.32\n"
     ]
    }
   ],
   "source": [
    "# Datos iniciales\n",
    "P_N = 0.40  # Probabilidad de día nublado\n",
    "P_L_given_N = 0.50  # Probabilidad de lluvia dado que el día es nublado\n",
    "P_L_given_Nc = 0.20  # Probabilidad de lluvia dado que el día no es nublado\n",
    "\n",
    "# Probabilidad de día no nublado\n",
    "P_Nc = 1 - P_N\n",
    "\n",
    "# Probabilidad total de lluvia\n",
    "P_L = (P_L_given_N * P_N) + (P_L_given_Nc * P_Nc)\n",
    "print(f\"La probabilidad de que llueva el próximo sábado es: {P_L:.2f}\")"
   ]
  },
  {
   "cell_type": "markdown",
   "metadata": {},
   "source": [
    "## Reto 3\n",
    "\n",
    "A y B son eventos de una probabilidad tal que \\(P(A) = 0.3\\), \\(P(B) = 0.6\\) y \\(P(A \\cap B) = 0.1\\)\n",
    "\n",
    "¿Cuáles de las siguientes afirmaciones son verdaderas?\n",
    "**SUGERENCIA: dibuja un gran diagrama de Venn a tu lado**\n",
    "* \\(P(\\overline{A}) = 0.7\\)\n",
    "* \\(P(A \\cup B) = 0.6\\)\n",
    "* \\(P(A \\cap \\overline{B}) = 0.2\\)\n",
    "* \\(P(A \\cup \\overline{A}) = 1\\)  \n",
    "* \\(P(A \\cap (B \\cup \\overline{B})) = 0.4\\)\n",
    "* \\(P(\\overline{A} \\cap \\overline{B}) = 0.3\\)\n",
    "* \\(P(\\overline{A \\cap B}) = 0.9\\)"
   ]
  },
  {
   "cell_type": "code",
   "execution_count": 5,
   "metadata": {},
   "outputs": [
    {
     "name": "stdout",
     "output_type": "stream",
     "text": [
      "P(\\overline{A}) = 0.7: Verdadero\n",
      "P(A \\cup B) = 0.6: Falso\n",
      "P(A \\cap \\overline{B}) = 0.2: Falso\n",
      "P(A \\cup \\overline{A}) = 1: Verdadero\n",
      "P(A \\cap (B \\cup \\overline{B})) = 0.4: Verdadero\n",
      "P(\\overline{A} \\cap \\overline{B}) = 0.3: Falso\n",
      "P(\\overline{A \\cap B}) = 0.9: Verdadero\n"
     ]
    }
   ],
   "source": [
    "def verificar_afirmaciones():\n",
    "    # Datos iniciales\n",
    "    P_A = 0.3\n",
    "    P_B = 0.6\n",
    "    P_A_and_B = 0.1\n",
    "\n",
    "    # Calculando las probabilidades requeridas\n",
    "    P_not_A = 1 - P_A\n",
    "    P_A_union_B = P_A + P_B - P_A_and_B\n",
    "    P_A_and_not_B = P_A - P_A_and_B\n",
    "    P_A_union_not_A = 1\n",
    "    P_A_and_B_union_not_B = P_A\n",
    "    P_not_A_and_not_B = 1 - P_A_union_B\n",
    "    P_not_A_and_B = 1 - P_A_and_B\n",
    "\n",
    "    # Verificando cada afirmación\n",
    "    afirmaciones = {\n",
    "        \"P(\\\\overline{A}) = 0.7\": P_not_A == 0.7,\n",
    "        \"P(A \\\\cup B) = 0.6\": P_A_union_B == 0.6,\n",
    "        \"P(A \\\\cap \\\\overline{B}) = 0.2\": P_A_and_not_B == 0.2,\n",
    "        \"P(A \\\\cup \\\\overline{A}) = 1\": P_A_union_not_A == 1,\n",
    "        \"P(A \\\\cap (B \\\\cup \\\\overline{B})) = 0.4\": P_A_and_B_union_not_B == P_A,\n",
    "        \"P(\\\\overline{A} \\\\cap \\\\overline{B}) = 0.3\": P_not_A_and_not_B == 0.3,\n",
    "        \"P(\\\\overline{A \\\\cap B}) = 0.9\": P_not_A_and_B == 0.9,\n",
    "    }\n",
    "\n",
    "    # Imprimiendo resultados\n",
    "    for afirmacion, es_verdadera in afirmaciones.items():\n",
    "        print(f\"{afirmacion}: {'Verdadero' if es_verdadera else 'Falso'}\")\n",
    "\n",
    "verificar_afirmaciones()\n"
   ]
  },
  {
   "cell_type": "markdown",
   "metadata": {},
   "source": [
    "## Reto 4\n",
    "\n",
    "* Si alguien viaja a China, la probabilidad de contraer Covid es del 1%\n",
    "* Si alguien viaja a Italia, la probabilidad de contraer Covid es del 20%\n",
    "\n",
    "Lanzo un dado con números 1, 2, 3, 4, 5, 6:\n",
    "* Si sale 1: Vuelo a Italia\n",
    "* Si no sale 1: Vuelo a China\n",
    "\n",
    "Durante mi viaje, contraje Covid. ¿Cuál es la probabilidad de que haya volado a China?"
   ]
  },
  {
   "cell_type": "code",
   "execution_count": 6,
   "metadata": {},
   "outputs": [
    {
     "name": "stdout",
     "output_type": "stream",
     "text": [
      "La probabilidad de que haya volado a China es: 0.2000\n"
     ]
    }
   ],
   "source": [
    "def calcular_probabilidad_china():\n",
    "    # Probabilidades iniciales\n",
    "    P_Italia = 1/6\n",
    "    P_China = 5/6\n",
    "    P_Covid_given_Italia = 0.20\n",
    "    P_Covid_given_China = 0.01\n",
    "\n",
    "    # Probabilidad total de contraer Covid\n",
    "    P_Covid = (P_Covid_given_Italia * P_Italia) + (P_Covid_given_China * P_China)\n",
    "\n",
    "    # Probabilidad de haber volado a China dado que contraje Covid\n",
    "    P_China_given_Covid = (P_Covid_given_China * P_China) / P_Covid\n",
    "\n",
    "    return P_China_given_Covid\n",
    "\n",
    "probabilidad_china = calcular_probabilidad_china()\n",
    "print(f\"La probabilidad de que haya volado a China es: {probabilidad_china:.4f}\")\n"
   ]
  },
  {
   "cell_type": "markdown",
   "metadata": {},
   "source": [
    "## BONUS\n",
    "\n",
    "Lanzas 2 dados. ¿Cuál es la probabilidad de que la suma de los números sea 7? ¿Y 8? ¿Y 9? Luego simula 10000 veces y dibuja un gráfico de conteo.\n",
    "\n",
    "tu explicación aquí"
   ]
  },
  {
   "cell_type": "code",
   "execution_count": null,
   "metadata": {},
   "outputs": [],
   "source": [
    "# YOUR CODE HERE"
   ]
  }
 ],
 "metadata": {
  "kernelspec": {
   "display_name": "Python 3 (ipykernel)",
   "language": "python",
   "name": "python3"
  },
  "language_info": {
   "codemirror_mode": {
    "name": "ipython",
    "version": 3
   },
   "file_extension": ".py",
   "mimetype": "text/x-python",
   "name": "python",
   "nbconvert_exporter": "python",
   "pygments_lexer": "ipython3",
   "version": "3.10.12"
  },
  "toc": {
   "base_numbering": 1,
   "nav_menu": {},
   "number_sections": false,
   "sideBar": true,
   "skip_h1_title": false,
   "title_cell": "Table of Contents",
   "title_sidebar": "Contents",
   "toc_cell": false,
   "toc_position": {
    "height": "calc(100% - 180px)",
    "left": "10px",
    "top": "150px",
    "width": "296.475px"
   },
   "toc_section_display": true,
   "toc_window_display": false
  },
  "varInspector": {
   "cols": {
    "lenName": 16,
    "lenType": 16,
    "lenVar": 40
   },
   "kernels_config": {
    "python": {
     "delete_cmd_postfix": "",
     "delete_cmd_prefix": "del ",
     "library": "var_list.py",
     "varRefreshCmd": "print(var_dic_list())"
    },
    "r": {
     "delete_cmd_postfix": ") ",
     "delete_cmd_prefix": "rm(",
     "library": "var_list.r",
     "varRefreshCmd": "cat(var_dic_list()) "
    }
   },
   "types_to_exclude": [
    "module",
    "function",
    "builtin_function_or_method",
    "instance",
    "_Feature"
   ],
   "window_display": false
  }
 },
 "nbformat": 4,
 "nbformat_minor": 2
}
